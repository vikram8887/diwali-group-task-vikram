{
 "cells": [
  {
   "cell_type": "markdown",
   "id": "f33b33b4",
   "metadata": {},
   "source": [
    "#  1.)  issubset"
   ]
  },
  {
   "cell_type": "code",
   "execution_count": 8,
   "id": "5f972c5c",
   "metadata": {},
   "outputs": [],
   "source": [
    "def custom_issubset(list1, list2):\n",
    "    \"\"\"\n",
    "    Custom issubset function to check if list1 is a subset of list2.\n",
    "    \n",
    "    Args:\n",
    "    list1 (list): The first list.\n",
    "    list2 (list): The second list.\n",
    "    list1 is subset of list2\n",
    "    \n",
    "    print ('my new list').\n",
    "    Returns:\n",
    "    bool: True if list1 is a subset of list2, False otherwise.\n",
    "    \"\"\"\n",
    "    return all(item in list2 for item in list1)\n",
    "#Example usage:\n",
    "#list1 = [1, 2, 3]\n",
    "#list2 = [2, 3, 4, 5, 6, 7]\n",
    "\n",
    "#is_subset = custom_issubset(list1, list2)\n",
    "\n",
    "#print(is_subset)"
   ]
  },
  {
   "cell_type": "code",
   "execution_count": 9,
   "id": "53ce8959",
   "metadata": {},
   "outputs": [
    {
     "name": "stdout",
     "output_type": "stream",
     "text": [
      "True\n"
     ]
    }
   ],
   "source": [
    "list1 = [1, 2, 3]\n",
    "list2 = [3, 4, 5, 1, 2, 6]\n",
    "s = custom_issubset(list1, list2)\n",
    "\n",
    "print(s)"
   ]
  },
  {
   "cell_type": "markdown",
   "id": "188550d6",
   "metadata": {},
   "source": [
    "# 2.)   union"
   ]
  },
  {
   "cell_type": "code",
   "execution_count": 11,
   "id": "702f5210",
   "metadata": {},
   "outputs": [],
   "source": [
    "def custom_union(lst1, lst2):\n",
    "    \"\"\"\n",
    "    Custom union function to combine two lists and create a new list with unique elements.\n",
    "    \n",
    "    Args:\n",
    "    lst1 (list): The first list.\n",
    "    lst2 (list): The second list.\n",
    "    \n",
    "    Returns:\n",
    "    list: A new list with unique elements from lst1 and lst2.\n",
    "    \"\"\"\n",
    "    result = lst1.copy()  # Create a copy of the first list to preserve the original.\n",
    "    \n",
    "    for item in lst2:\n",
    "        if item not in result:\n",
    "            result.append(item)\n",
    "\n",
    "    return result"
   ]
  },
  {
   "cell_type": "code",
   "execution_count": 12,
   "id": "702d9085",
   "metadata": {},
   "outputs": [
    {
     "name": "stdout",
     "output_type": "stream",
     "text": [
      "[1, 2, 3, 4, 5]\n"
     ]
    }
   ],
   "source": [
    "list1 = [1, 2, 3]\n",
    "list2 = [3, 4, 5]\n",
    "\n",
    "result_list = custom_union(list1, list2)\n",
    "\n",
    "print(result_list)"
   ]
  },
  {
   "cell_type": "markdown",
   "id": "96955ec0",
   "metadata": {},
   "source": [
    "# 3.)  method count in tuple"
   ]
  },
  {
   "cell_type": "code",
   "execution_count": 14,
   "id": "3cb04ffa",
   "metadata": {},
   "outputs": [],
   "source": [
    "def custom_count(my_tuple, item):\n",
    "    \"\"\"\n",
    "    Custom count function to count the occurrences of an item in a tuple.\n",
    "    \n",
    "    Args:\n",
    "    my_tuple (tuple): The tuple in which to count occurrences.\n",
    "    item: The item to count in the tuple.\n",
    "    \n",
    "    Returns:\n",
    "    int: The number of occurrences of the item in the tuple.\n",
    "    \"\"\"\n",
    "    return sum(1 for element in my_tuple if element == item)"
   ]
  },
  {
   "cell_type": "code",
   "execution_count": 16,
   "id": "e72e5f41",
   "metadata": {},
   "outputs": [
    {
     "name": "stdout",
     "output_type": "stream",
     "text": [
      "3\n"
     ]
    }
   ],
   "source": [
    "my_tuple = (1, 2, 2, 3, 4, 2, 5)\n",
    "\n",
    "y = custom_count(my_tuple, 2)\n",
    "\n",
    "print(y)"
   ]
  },
  {
   "cell_type": "markdown",
   "id": "92b44d6e",
   "metadata": {},
   "source": [
    "# 4.)  index method in tuples"
   ]
  },
  {
   "cell_type": "code",
   "execution_count": 18,
   "id": "a66f845f",
   "metadata": {},
   "outputs": [],
   "source": [
    "def custom_index_tuple(y, item):\n",
    "    \"\"\"\n",
    "    Custom index function to get the index of the first occurrence of an item in a tuple.\n",
    "    \n",
    "    Args:\n",
    "    my_tuple (tuple): The tuple in which to find the index.\n",
    "    item: The item to find in the tuple.\n",
    "    \n",
    "    Returns:\n",
    "    int: The index of the first occurrence of the item in the tuple.\n",
    "    Raises ValueError if the item is not found in the tuple.\n",
    "    \"\"\" \n",
    "    for i, element in enumerate(y):\n",
    "        if element == item:\n",
    "            return i\n",
    "   # raise ValueError(f\"{item} not found in the tuple\")"
   ]
  },
  {
   "cell_type": "code",
   "execution_count": 19,
   "id": "f9261781",
   "metadata": {},
   "outputs": [
    {
     "name": "stdout",
     "output_type": "stream",
     "text": [
      "2\n"
     ]
    }
   ],
   "source": [
    "y = (1, 2, 3, 4, 5)\n",
    "\n",
    "x = custom_index_tuple(y, 3)       # here what number we give that number will count\n",
    "\n",
    "print(x)"
   ]
  },
  {
   "cell_type": "markdown",
   "id": "8eab8870",
   "metadata": {},
   "source": [
    "# 5.)  isdisjoint"
   ]
  },
  {
   "cell_type": "code",
   "execution_count": 20,
   "id": "469b19d3",
   "metadata": {},
   "outputs": [],
   "source": [
    "def custom_isdisjoint_set(set1, set2):\n",
    "    \"\"\"\n",
    "    Custom isdisjoint function to check if set1 and set2 are disjoint.\n",
    "    \n",
    "    Args:\n",
    "    set1 (set): The first set.\n",
    "    set2 (set): The second set.\n",
    "    \n",
    "    Returns:\n",
    "    bool: True if set1 and set2 are disjoint, False otherwise.\n",
    "    \"\"\"\n",
    "    return all(item not in set2 for item in set1)"
   ]
  },
  {
   "cell_type": "code",
   "execution_count": 23,
   "id": "0ee00134",
   "metadata": {},
   "outputs": [
    {
     "name": "stdout",
     "output_type": "stream",
     "text": [
      "True\n"
     ]
    }
   ],
   "source": [
    "set1 = {1, 2, 3}               #it wii show True because we have taken two different sets\n",
    "set2 = {4, 5, 6}\n",
    "\n",
    "x = custom_isdisjoint_set(set1, set2)\n",
    "\n",
    "print(x)"
   ]
  },
  {
   "cell_type": "markdown",
   "id": "b5238d8a",
   "metadata": {},
   "source": [
    "# 6.)  update"
   ]
  },
  {
   "cell_type": "code",
   "execution_count": 25,
   "id": "7d689617",
   "metadata": {},
   "outputs": [],
   "source": [
    "def custom_update_set(set1, set2):\n",
    "    \"\"\"\n",
    "    Custom update function to update set1 with the elements of set2.\n",
    "    \n",
    "    Args:\n",
    "    set1 (set): The set to be updated.\n",
    "    set2 (set): The set whose elements will be added to set1.\n",
    "    \"\"\"\n",
    "    set1 |= set2"
   ]
  },
  {
   "cell_type": "code",
   "execution_count": 26,
   "id": "841d97de",
   "metadata": {},
   "outputs": [
    {
     "name": "stdout",
     "output_type": "stream",
     "text": [
      "{1, 2, 3, 4, 5}\n"
     ]
    }
   ],
   "source": [
    "set1 = {1, 2, 3}\n",
    "set2 = {3, 4, 5}\n",
    "\n",
    "custom_update_set(set1, set2)\n",
    "\n",
    "print(set1)"
   ]
  },
  {
   "cell_type": "markdown",
   "id": "2c077fe7",
   "metadata": {},
   "source": [
    "# 7.) symmetric_difference_update"
   ]
  },
  {
   "cell_type": "code",
   "execution_count": 27,
   "id": "3806f132",
   "metadata": {},
   "outputs": [],
   "source": [
    "def custom_symmetric_difference_update_set(set1, set2):\n",
    "    \"\"\"\n",
    "    Custom symmetric_difference_update function to update set1 with the symmetric difference of set1 and set2.\n",
    "    \n",
    "    Args:\n",
    "    set1 (set): The set to be updated.\n",
    "    set2 (set): The set to compute the symmetric difference with set1.\n",
    "    \"\"\"\n",
    "    set1 ^= set2"
   ]
  },
  {
   "cell_type": "code",
   "execution_count": 28,
   "id": "5f88ec21",
   "metadata": {},
   "outputs": [
    {
     "name": "stdout",
     "output_type": "stream",
     "text": [
      "{1, 2, 4, 5}\n"
     ]
    }
   ],
   "source": [
    "set1 = {1, 2, 3}\n",
    "set2 = {3, 4, 5}\n",
    "\n",
    "custom_symmetric_difference_update_set(set1, set2)\n",
    "\n",
    "print(set1)"
   ]
  }
 ],
 "metadata": {
  "kernelspec": {
   "display_name": "Python 3 (ipykernel)",
   "language": "python",
   "name": "python3"
  },
  "language_info": {
   "codemirror_mode": {
    "name": "ipython",
    "version": 3
   },
   "file_extension": ".py",
   "mimetype": "text/x-python",
   "name": "python",
   "nbconvert_exporter": "python",
   "pygments_lexer": "ipython3",
   "version": "3.11.5"
  }
 },
 "nbformat": 4,
 "nbformat_minor": 5
}
